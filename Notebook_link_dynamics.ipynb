{
 "cells": [
  {
   "cell_type": "markdown",
   "metadata": {},
   "source": [
    "# Notebook on the dynamics of the creation and disappearance of links"
   ]
  },
  {
   "cell_type": "markdown",
   "metadata": {},
   "source": [
    "This notebook will try to analyze recently created links (less than one year) based on data from facebook gathered as part of the algopol investigation."
   ]
  },
  {
   "cell_type": "markdown",
   "metadata": {},
   "source": [
    "## What I can do (at the moment)"
   ]
  },
  {
   "cell_type": "markdown",
   "metadata": {},
   "source": [
    "1. Compute and Identify recent alters for an ego\n",
    "1. Compute and plot frequencies and percentages of recent alters for a given ego\n",
    "1. Compute and plot the proportion of recent alters per year for a given ego\n"
   ]
  },
  {
   "cell_type": "markdown",
   "metadata": {},
   "source": [
    "## What I can't do (at the moment)\n"
   ]
  },
  {
   "cell_type": "markdown",
   "metadata": {},
   "source": [
    "1. Compute and plot proportions against a given socio-economical category or a demographic profile.\n",
    "1. Compute, label and plot against specific reasons. I don't have the \"why\" of an interaction.\n",
    "1. Compute lost alters (unfriend, blocks)"
   ]
  },
  {
   "cell_type": "markdown",
   "metadata": {},
   "source": [
    "## What I need "
   ]
  },
  {
   "cell_type": "markdown",
   "metadata": {},
   "source": [
    "1. Egos Age\n",
    "1. Alters Age\n",
    "1. The reason behind the interaction\n",
    "1. An union of all the egos to compute and plot the mean and median number of recent alters for the whole dataset\n",
    "1. An union of all the egos (in a specific and relevant category) to compute and plot the mean and median number of recent alters for a specific category."
   ]
  },
  {
   "cell_type": "code",
   "execution_count": null,
   "metadata": {},
   "outputs": [],
   "source": []
  },
  {
   "cell_type": "code",
   "execution_count": null,
   "metadata": {},
   "outputs": [],
   "source": []
  }
 ],
 "metadata": {
  "kernelspec": {
   "display_name": "Python 3.8.2 64-bit",
   "language": "python",
   "name": "python38264bit539861bfed564254a0e661d40844de8e"
  },
  "language_info": {
   "codemirror_mode": {
    "name": "ipython",
    "version": 3
   },
   "file_extension": ".py",
   "mimetype": "text/x-python",
   "name": "python",
   "nbconvert_exporter": "python",
   "pygments_lexer": "ipython3",
   "version": "3.8.3"
  }
 },
 "nbformat": 4,
 "nbformat_minor": 4
}
