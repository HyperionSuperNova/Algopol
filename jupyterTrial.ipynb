{
 "cells": [
  {
   "cell_type": "code",
   "execution_count": null,
   "metadata": {},
   "outputs": [],
   "source": [
    "import gzip\n",
    "import csv\n",
    "from datetime import datetime, timedelta\n",
    "import pandas as pd\n",
    "import seaborn as sns; sns.set()\n",
    "import matplotlib.pyplot as plt"
   ]
  },
  {
   "cell_type": "code",
   "execution_count": null,
   "metadata": {},
   "outputs": [],
   "source": [
    "def dict_to_csv(dico):\n",
    "    L = [] \n",
    "    for k,v in dico.items():\n",
    "        L.append({'Month':k[0],'Year':k[1],'AlterCount':v})\n",
    "    return L"
   ]
  },
  {
   "cell_type": "code",
   "execution_count": null,
   "metadata": {},
   "outputs": [],
   "source": [
    "def add_values_to_dict(dico,key,val):\n",
    "    if key in dico.keys():\n",
    "        dico[key] = dico[key] + val\n",
    "    else:\n",
    "        dico[key] = val\n",
    "    return dico"
   ]
  },
  {
   "cell_type": "code",
   "execution_count": null,
   "metadata": {},
   "outputs": [],
   "source": [
    "def delta(recent, dico, start,end):\n",
    "    for timestamp in range(start,end,30*24*3600):\n",
    "        datetimet = datetime.fromtimestamp(timestamp)\n",
    "        month_year = (datetimet.month,datetimet.year)\n",
    "        if month_year in dico_time_ancient:\n",
    "            recent -= dico[month_year]\n",
    "    return recent"
   ]
  },
  {
   "cell_type": "code",
   "execution_count": null,
   "metadata": {},
   "outputs": [],
   "source": [
    "def timestamp_add_one_year(timestamp):\n",
    "    return timestamp + + 12*30*24*3600"
   ]
  },
  {
   "cell_type": "code",
   "execution_count": null,
   "metadata": {},
   "outputs": [],
   "source": [
    "def timestamp_add_one_month(timestamp):\n",
    "    return timestamp + 30*24*3600"
   ]
  },
  {
   "cell_type": "code",
   "execution_count": null,
   "metadata": {},
   "outputs": [],
   "source": [
    "dico_time_ancient = dict()\n",
    "dico_time = dict()\n",
    "dico_alter = dict()"
   ]
  },
  {
   "cell_type": "code",
   "execution_count": null,
   "metadata": {},
   "outputs": [],
   "source": [
    "filegz = gzip.open('sample_data/0a0a076ff04b3663aa821ff2a0b2c41a.csv.gz', 'rt')"
   ]
  },
  {
   "cell_type": "code",
   "execution_count": null,
   "metadata": {},
   "outputs": [],
   "source": [
    "csvobj = csv.reader(filegz,delimiter = ',',quotechar=\"'\")"
   ]
  },
  {
   "cell_type": "code",
   "execution_count": null,
   "metadata": {},
   "outputs": [],
   "source": [
    "header = next(csvobj)\n",
    "first_row = next(csvobj)\n",
    "id_ego = first_row[0]\n",
    "time_start = int(first_row[2])\n",
    "time_end = time_start + 30*24*3600\n",
    "recent = 0"
   ]
  },
  {
   "cell_type": "code",
   "execution_count": null,
   "metadata": {
    "scrolled": true
   },
   "outputs": [],
   "source": [
    "for row in csvobj:\n",
    "    idr,timestamp = row[0],int(row[2])\n",
    "    if idr not in dico_alter:\n",
    "        dico_alter[idr] = timestamp\n",
    "        recent = recent + 1\n",
    "        datetime_timestamp = datetime.fromtimestamp(timestamp)\n",
    "        month_year = (datetime_timestamp.month,datetime_timestamp.year)\n",
    "        month_year_one_year = (datetime_timestamp.month,datetime_timestamp.year+1)\n",
    "        dico_time_ancient = add_values_to_dict(dico_time_ancient,month_year_one_year,1)\n",
    "        if timestamp > time_end:\n",
    "            if month_year in dico_time_ancient:\n",
    "                recent = delta(recent,dico_time_ancient,add_one_year(time_start),add_one_year(timestamp))\n",
    "            dico_time[month_year] = recent\n",
    "            time_end = add_one_month(time_start)\n",
    "        dico_time[month_year] = recent\n",
    "        time_start = timestamp\n"
   ]
  },
  {
   "cell_type": "code",
   "execution_count": null,
   "metadata": {
    "scrolled": false
   },
   "outputs": [],
   "source": [
    "print(dico_time)"
   ]
  },
  {
   "cell_type": "code",
   "execution_count": null,
   "metadata": {
    "scrolled": false
   },
   "outputs": [],
   "source": [
    "print(dico_time_ancient)"
   ]
  },
  {
   "cell_type": "code",
   "execution_count": null,
   "metadata": {},
   "outputs": [],
   "source": [
    "csv_file = id_ego + '_alter-count.csv'\n",
    "csv_columns = ['Month','Year','AlterCount']\n",
    "dict_data = dict_to_csv(dico_time)"
   ]
  },
  {
   "cell_type": "code",
   "execution_count": null,
   "metadata": {},
   "outputs": [],
   "source": [
    "try:\n",
    "    with open(csv_file, 'w') as csvfile:\n",
    "        writer = csv.DictWriter(csvfile, fieldnames=csv_columns)\n",
    "        writer.writeheader()\n",
    "        for data in dict_data:\n",
    "            writer.writerow(data)\n",
    "except IOError:\n",
    "        print(\"I/O error\")"
   ]
  },
  {
   "cell_type": "code",
   "execution_count": null,
   "metadata": {},
   "outputs": [],
   "source": [
    "dico_df = pd.DataFrame.from_dict(dict_data)"
   ]
  },
  {
   "cell_type": "code",
   "execution_count": null,
   "metadata": {},
   "outputs": [],
   "source": [
    "a4_dims = (11.7, 8.27)\n",
    "fig, ax = plt.subplots(figsize=a4_dims)\n",
    "ax = sns.lineplot(x=\"Month\", y=\"AlterCount\",hue=\"Year\",data=dico_df)"
   ]
  }
 ],
 "metadata": {
  "celltoolbar": "Aucun(e)",
  "kernelspec": {
   "display_name": "Python 3.8.2 64-bit",
   "language": "python",
   "name": "python38264bit539861bfed564254a0e661d40844de8e"
  },
  "language_info": {
   "codemirror_mode": {
    "name": "ipython",
    "version": 3
   },
   "file_extension": ".py",
   "mimetype": "text/x-python",
   "name": "python",
   "nbconvert_exporter": "python",
   "pygments_lexer": "ipython3",
   "version": "3.8.3"
  }
 },
 "nbformat": 4,
 "nbformat_minor": 2
}
