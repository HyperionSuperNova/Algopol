{
 "cells": [
  {
   "cell_type": "code",
   "execution_count": 1,
   "metadata": {},
   "outputs": [],
   "source": [
    "import gzip\n",
    "import csv\n",
    "from datetime import datetime, timedelta\n",
    "import pandas as pd\n",
    "import seaborn as sns; sns.set()\n",
    "import matplotlib.pyplot as plt"
   ]
  },
  {
   "cell_type": "code",
   "execution_count": 2,
   "metadata": {},
   "outputs": [],
   "source": [
    "def dict_to_csv(dico):\n",
    "    L = [] \n",
    "    for k,v in dico.items():\n",
    "        L.append({'Month':k[0],'Year':k[1],'AlterCount':v})\n",
    "    return L"
   ]
  },
  {
   "cell_type": "code",
   "execution_count": 3,
   "metadata": {},
   "outputs": [],
   "source": [
    "def add_values_to_dict(dico,month_year,val):\n",
    "    if month_year in dico.keys():\n",
    "        dico[month_year] = dico[month_year] + val\n",
    "    else:\n",
    "        dico[month_year] = val\n",
    "    return dico"
   ]
  },
  {
   "cell_type": "code",
   "execution_count": 4,
   "metadata": {},
   "outputs": [],
   "source": [
    "def delta(recent, dico, start,end):\n",
    "    for timestamp in range(start,end,30*24*3600):\n",
    "        datetimet = datetime.fromtimestamp(int(timestamp))\n",
    "        month_year = (datetimet.month,datetimet.year)\n",
    "        if month_year in dico_time_ancient:\n",
    "            recent -= dico[month_year]\n",
    "    return recent"
   ]
  },
  {
   "cell_type": "code",
   "execution_count": 5,
   "metadata": {},
   "outputs": [],
   "source": [
    "dico_time_ancient = dict()\n",
    "dico_time = dict()\n",
    "dico_alter = dict()"
   ]
  },
  {
   "cell_type": "code",
   "execution_count": 6,
   "metadata": {},
   "outputs": [],
   "source": [
    "filegz = gzip.open('sample_data/0a0a076ff04b3663aa821ff2a0b2c41a.csv.gz', 'rt')"
   ]
  },
  {
   "cell_type": "code",
   "execution_count": 7,
   "metadata": {},
   "outputs": [],
   "source": [
    "csvobj = csv.reader(filegz,delimiter = ',',quotechar=\"'\")"
   ]
  },
  {
   "cell_type": "code",
   "execution_count": 8,
   "metadata": {},
   "outputs": [],
   "source": [
    "header = next(csvobj)\n",
    "first_row = next(csvobj)\n",
    "id_ego = first_row[0]\n",
    "time_start = int(first_row[2])\n",
    "time_end = time_start + 30*24*3600\n",
    "samemonth = False\n",
    "recent = 0"
   ]
  },
  {
   "cell_type": "code",
   "execution_count": 9,
   "metadata": {
    "scrolled": true
   },
   "outputs": [],
   "source": [
    "for row in csvobj:\n",
    "    idr,timestamp = row[0],int(row[2])\n",
    "    if idr not in dico_alter:\n",
    "        dico_alter[idr] = int(timestamp)\n",
    "        recent = recent + 1\n",
    "        datetime_timestamp = datetime.fromtimestamp(int(timestamp))\n",
    "        month_year = (datetime_timestamp.month,datetime_timestamp.year)\n",
    "        month_year_one_year = (datetime_timestamp.month,datetime_timestamp.year+1)\n",
    "        dico_time_ancient = add_values_to_dict(dico_time_ancient,month_year_one_year,1)\n",
    "        if month_year in dico_time_ancient and timestamp > time_end:\n",
    "            recent = delta(recent,dico_time_ancient,time_start+ 12*30*24*3600,timestamp+ 12*30*24*3600)\n",
    "            dico_time[month_year] = recent\n",
    "            time_end = time_start + 30*24*3600\n",
    "        dico_time[month_year] = recent\n",
    "        time_start = timestamp\n"
   ]
  },
  {
   "cell_type": "code",
   "execution_count": 10,
   "metadata": {
    "scrolled": false
   },
   "outputs": [
    {
     "name": "stdout",
     "output_type": "stream",
     "text": [
      "{(1, 2009): 2, (2, 2009): 3, (4, 2009): 4, (10, 2009): 6, (11, 2009): 9, (12, 2009): 12, (1, 2010): 9, (3, 2010): 13, (4, 2010): 11, (5, 2010): 13, (6, 2010): 19, (7, 2010): 24, (9, 2010): 26, (10, 2010): 29, (11, 2010): 29, (12, 2010): 22, (1, 2011): 26, (2, 2011): 27, (3, 2011): 26, (4, 2011): 23, (5, 2011): 24, (6, 2011): 25, (7, 2011): 25, (8, 2011): 28, (9, 2011): 25, (10, 2011): 26, (11, 2011): 21, (12, 2011): 22, (1, 2012): 19, (10, 2012): 19, (11, 2012): 18, (12, 2012): 20, (1, 2013): 16, (2, 2013): 18, (5, 2013): 21, (10, 2013): 18, (12, 2013): 18, (6, 2014): 110, (7, 2014): 111, (8, 2014): 112, (10, 2014): 113, (11, 2014): 115, (1, 2015): 118, (2, 2015): 126}\n"
     ]
    }
   ],
   "source": [
    "print(dico_time)"
   ]
  },
  {
   "cell_type": "code",
   "execution_count": 11,
   "metadata": {
    "scrolled": false
   },
   "outputs": [
    {
     "name": "stdout",
     "output_type": "stream",
     "text": [
      "{(1, 2010): 2, (2, 2010): 1, (4, 2010): 1, (10, 2010): 2, (11, 2010): 3, (12, 2010): 3, (1, 2011): 2, (3, 2011): 4, (4, 2011): 2, (5, 2011): 2, (6, 2011): 6, (7, 2011): 5, (9, 2011): 2, (10, 2011): 5, (11, 2011): 9, (12, 2011): 2, (1, 2012): 6, (2, 2012): 1, (3, 2012): 3, (4, 2012): 4, (5, 2012): 8, (6, 2012): 4, (7, 2012): 4, (8, 2012): 3, (9, 2012): 3, (10, 2012): 6, (11, 2012): 1, (12, 2012): 2, (1, 2013): 2, (10, 2013): 2, (11, 2013): 1, (12, 2013): 4, (1, 2014): 1, (2, 2014): 2, (5, 2014): 3, (10, 2014): 1, (12, 2014): 1, (6, 2015): 92, (7, 2015): 1, (8, 2015): 1, (10, 2015): 2, (11, 2015): 2, (1, 2016): 3, (2, 2016): 8}\n"
     ]
    }
   ],
   "source": [
    "print(dico_time_ancient)"
   ]
  },
  {
   "cell_type": "code",
   "execution_count": 12,
   "metadata": {},
   "outputs": [],
   "source": [
    "csv_file = id_ego + '_alter-count.csv'\n",
    "csv_columns = ['Month','Year','AlterCount']\n",
    "dict_data = dict_to_csv(dico_time)"
   ]
  },
  {
   "cell_type": "code",
   "execution_count": 13,
   "metadata": {},
   "outputs": [],
   "source": [
    "try:\n",
    "    with open(csv_file, 'w') as csvfile:\n",
    "        writer = csv.DictWriter(csvfile, fieldnames=csv_columns)\n",
    "        writer.writeheader()\n",
    "        for data in dict_data:\n",
    "            writer.writerow(data)\n",
    "except IOError:\n",
    "        print(\"I/O error\")"
   ]
  },
  {
   "cell_type": "code",
   "execution_count": 14,
   "metadata": {},
   "outputs": [],
   "source": [
    "dico_df = pd.DataFrame.from_dict(dict_data)"
   ]
  },
  {
   "cell_type": "code",
   "execution_count": 15,
   "metadata": {},
   "outputs": [
    {
     "data": {
      "image/png": "[encoded data removed]",
      "text/plain": [
       "<Figure size 842.4x595.44 with 1 Axes>"
      ]
     },
     "metadata": {},
     "output_type": "display_data"
    }
   ],
   "source": [
    "a4_dims = (11.7, 8.27)\n",
    "fig, ax = plt.subplots(figsize=a4_dims)\n",
    "ax = sns.lineplot(x=\"Month\", y=\"AlterCount\",hue=\"Year\",data=dico_df)"
   ]
  }
 ],
 "metadata": {
  "celltoolbar": "Aucun(e)",
  "kernelspec": {
   "display_name": "Python 3.8.2 64-bit",
   "language": "python",
   "name": "python38264bit539861bfed564254a0e661d40844de8e"
  },
  "language_info": {
   "codemirror_mode": {
    "name": "ipython",
    "version": 3
   },
   "file_extension": ".py",
   "mimetype": "text/x-python",
   "name": "python",
   "nbconvert_exporter": "python",
   "pygments_lexer": "ipython3",
   "version": "3.8.3"
  }
 },
 "nbformat": 4,
 "nbformat_minor": 2
}
